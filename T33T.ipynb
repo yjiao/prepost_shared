{
 "metadata": {
  "kernelspec": {
   "display_name": "Python 2",
   "language": "python",
   "name": "python2"
  },
  "language_info": {
   "codemirror_mode": {
    "name": "ipython",
    "version": 2
   },
   "file_extension": ".py",
   "mimetype": "text/x-python",
   "name": "python",
   "nbconvert_exporter": "python",
   "pygments_lexer": "ipython2",
   "version": "2.7.10"
  },
  "name": "",
  "toc": {
   "toc_cell": false,
   "toc_number_sections": true,
   "toc_threshold": 6,
   "toc_window_display": false
  }
 },
 "nbformat": 3,
 "nbformat_minor": 0,
 "worksheets": [
  {
   "cells": [
    {
     "cell_type": "markdown",
     "metadata": {
      "collapsed": true
     },
     "source": [
      "# Exploring neoantigen data: automated by patient\n",
      "\n",
      "- neoAg rate for clonal vs subclonal mutations\n",
      "- High-expressing rate vs low expressing rate wrt clonality?\u00a0\n",
      "\n",
      "**Next steps** <br>\n",
      "- Looking at paired RNA data"
     ]
    },
    {
     "cell_type": "code",
     "collapsed": false,
     "input": [
      "from os import environ\n",
      "pID = environ['pID']\n",
      "print environ['pID']"
     ],
     "language": "python",
     "metadata": {},
     "outputs": [
      {
       "output_type": "stream",
       "stream": "stdout",
       "text": [
        "T33T\n"
       ]
      }
     ],
     "prompt_number": 1
    },
    {
     "cell_type": "code",
     "collapsed": true,
     "input": [
      "# for debugging:\n",
      "#pID = '208T'"
     ],
     "language": "python",
     "metadata": {},
     "outputs": [],
     "prompt_number": 2
    },
    {
     "cell_type": "code",
     "collapsed": false,
     "input": [
      "%load_ext rpy2.ipython"
     ],
     "language": "python",
     "metadata": {},
     "outputs": [],
     "prompt_number": 3
    },
    {
     "cell_type": "code",
     "collapsed": false,
     "input": [
      "%%R -i pID\n",
      "library(ggplot2)\n",
      "setwd('/Volumes/yjiao/prepost/reneoantigendetection/out/')\n",
      "options(jupyter.plot_mimetypes = 'image/png')\n",
      "\n",
      "files <- list.files(pattern='.tsv')\n",
      "patients <- sapply(files, function(x) {\n",
      "    strsplit(x, '\\\\.')[[1]][1]\n",
      "})\n",
      "names(files) <- patients\n",
      "\n",
      "cutoff <- 500\n",
      "neoag <- read.table(files[pID], header=TRUE, sep='\\t', stringsAsFactors = FALSE)"
     ],
     "language": "python",
     "metadata": {},
     "outputs": [
      {
       "output_type": "stream",
       "stream": "stdout",
       "text": [
        "\n",
        "Error in file(file, \"rt\") : cannot open the connection\n"
       ]
      },
      {
       "output_type": "stream",
       "stream": "stderr",
       "text": [
        "//anaconda/lib/python2.7/site-packages/rpy2/robjects/functions.py:106: UserWarning: Error in file(file, \"rt\") : cannot open the connection\n",
        "\n",
        "  res = super(Function, self).__call__(*new_args, **new_kwargs)\n",
        "//anaconda/lib/python2.7/site-packages/rpy2/robjects/functions.py:106: UserWarning: In addition: \n",
        "  res = super(Function, self).__call__(*new_args, **new_kwargs)\n",
        "//anaconda/lib/python2.7/site-packages/rpy2/robjects/functions.py:106: UserWarning: Warning messages:\n",
        "\n",
        "  res = super(Function, self).__call__(*new_args, **new_kwargs)\n",
        "//anaconda/lib/python2.7/site-packages/rpy2/robjects/functions.py:106: UserWarning: 1: package \u2018ggplot2\u2019 was built under R version 3.1.3 \n",
        "\n",
        "  res = super(Function, self).__call__(*new_args, **new_kwargs)\n",
        "//anaconda/lib/python2.7/site-packages/rpy2/robjects/functions.py:106: UserWarning: 2: In file(file, \"rt\") : cannot open file 'NA': No such file or directory\n",
        "\n",
        "  res = super(Function, self).__call__(*new_args, **new_kwargs)\n"
       ]
      }
     ],
     "prompt_number": 4
    },
    {
     "cell_type": "markdown",
     "metadata": {},
     "source": [
      "### Notes on format of tsv files\n",
      "- These are the results of the neoantigen pipeline\n",
      "- Contains all samples, all ccfs, and tpms\n",
      "- There are multiple peptides for each gene\n",
      "- Format was created for max flexibility in terms of what we want to visualize, at the cost of high redundancy/ storage space"
     ]
    },
    {
     "cell_type": "markdown",
     "metadata": {},
     "source": [
      "## Mutant neoantigen affinity vs wildtype neoantigen\n",
      "\n",
      "**Note** *McGranahan et al* seems to just define neoantigen as anything with mut_aff <= 500. So we'll do the same here.\n",
      "\n",
      "Old definiton: here a neoantigen is defined as any peptide with min mutant affinity (over all HLA types) <= 500, and min wildtype affinity (also over all HLA types) > 500 *AND* at least 3x greater than mutant affinity."
     ]
    },
    {
     "cell_type": "code",
     "collapsed": false,
     "input": [
      "%%R -i pID -w 5 -h 4 -u in\n",
      "#options(repr.plot.width=4.5, repr.plot.height=3)\n",
      "neoag$is_neoantigen <- neoag$min_aff_mt <= cutoff # McGranahan definition\n",
      "neoag$is_neoantigen2 <- neoag$min_aff_mt <= cutoff & neoag$min_aff_wt > cutoff & neoag$min_aff_wt >= 3*neoag$min_aff_mt # old definition\n",
      "\n",
      "c <- ggplot(neoag, aes(x=log(min_aff_wt), y=log(min_aff_mt)))\n",
      "c <- c + geom_point(alpha=.1, aes(color=is_neoantigen), size=1) +\n",
      "    labs(title='Mininum Affinity: McGranahan', y='Log Mutant', x='Log Wildtype') +\n",
      "    theme_classic() +\n",
      "    scale_color_manual(values=c('#000000','#00BFFF'),\n",
      "                     name='Classification',\n",
      "                     breaks=c(TRUE, FALSE),\n",
      "                     labels=c('Neoantigen', 'Non-neoantigen'))\n",
      "\n",
      "d <- ggplot(neoag, aes(x=log(min_aff_wt), y=log(min_aff_mt)))\n",
      "d <- d + geom_point(alpha=.1, aes(color=is_neoantigen2), size=1) +\n",
      "    labs(title='Mininum Affinity: Original', y='Log Mutant', x='Log Wildtype') +\n",
      "    theme_classic() +\n",
      "    scale_color_manual(values=c('#000000','#00BFFF'),\n",
      "                     name='Classification',\n",
      "                     breaks=c(TRUE, FALSE),\n",
      "                     labels=c('Neoantigen', 'Non-neoantigen'))\n",
      "\n",
      "print(c)\n",
      "print(d)"
     ],
     "language": "python",
     "metadata": {},
     "outputs": [
      {
       "output_type": "stream",
       "stream": "stdout",
       "text": [
        "\n",
        "Error in withVisible({ : object 'neoag' not found\n"
       ]
      },
      {
       "output_type": "stream",
       "stream": "stderr",
       "text": [
        "//anaconda/lib/python2.7/site-packages/rpy2/robjects/functions.py:106: UserWarning: Error in withVisible({ : object 'neoag' not found\n",
        "\n",
        "  res = super(Function, self).__call__(*new_args, **new_kwargs)\n"
       ]
      }
     ],
     "prompt_number": 5
    },
    {
     "cell_type": "markdown",
     "metadata": {},
     "source": [
      "## Mutant/wildtype affinity vs TPM (TCGA median)\n",
      "For TPM, since there can be multiple peptides per gene, but each peptide will have the exact same TPM, we want to group all peptides by gene, and plot each gene only once.\n",
      "\n",
      "### wildtype aff vs TPM <br>\n",
      "There seems to be no difference\n",
      "\n",
      "### mutant aff vs TPM <br>\n",
      "Weirdly, neoantigens appear to be expressed more highly??\n",
      "- More highly expressed genes tend to be mutated more frequently?\n",
      "- This affect might go away once we look at the paired RNAseq data?"
     ]
    },
    {
     "cell_type": "code",
     "collapsed": false,
     "input": [
      "%%R -i pID -w 3 -h 3 -u in\n",
      "groups <- tapply(1:nrow(neoag), neoag$Hugo_Symbol, function(idx){\n",
      "    temp <- neoag[idx[1],]\n",
      "    temp$min_aff_mt <- min(neoag[idx,]$min_aff_mt)\n",
      "    temp$min_aff_wt <- min(neoag[idx,]$min_aff_mt)\n",
      "    temp\n",
      "})\n",
      "groups <- do.call(rbind, groups)\n",
      "c <- ggplot(groups, aes(x=min_aff_wt, y=log(expression_allele_tpm)))\n",
      "c <- c + geom_point(size=1, alpha=.1) + scale_alpha(range = c(0,1))\n",
      "print(c)\n",
      "c <- ggplot(groups, aes(x=min_aff_wt <= 500, y=log(expression_allele_tpm)))\n",
      "c <- c + geom_boxplot()\n",
      "print(c)"
     ],
     "language": "python",
     "metadata": {},
     "outputs": [
      {
       "output_type": "stream",
       "stream": "stdout",
       "text": [
        "\n",
        "Error in tapply(1:nrow(neoag), neoag$Hugo_Symbol, function(idx) { : \n",
        "  object 'neoag' not found\n"
       ]
      },
      {
       "output_type": "stream",
       "stream": "stderr",
       "text": [
        "//anaconda/lib/python2.7/site-packages/rpy2/robjects/functions.py:106: UserWarning: Error in tapply(1:nrow(neoag), neoag$Hugo_Symbol, function(idx) { : \n",
        "  object 'neoag' not found\n",
        "\n",
        "  res = super(Function, self).__call__(*new_args, **new_kwargs)\n"
       ]
      }
     ],
     "prompt_number": 6
    },
    {
     "cell_type": "code",
     "collapsed": false,
     "input": [
      "%%R -i pID -w 3 -h 3 -u in\n",
      "c <- ggplot(groups, aes(x=min_aff_mt, y=log(expression_allele_tpm)))\n",
      "c <- c + geom_point(size=1, alpha=.1) + scale_alpha(range = c(0,1))\n",
      "print(c)\n",
      "c <- ggplot(groups, aes(x=is_neoantigen, y=log(expression_allele_tpm)))\n",
      "c <- c + geom_boxplot()\n",
      "print(c)"
     ],
     "language": "python",
     "metadata": {},
     "outputs": [
      {
       "output_type": "stream",
       "stream": "stdout",
       "text": [
        "\n",
        "Error in ggplot(groups, aes(x = min_aff_mt, y = log(expression_allele_tpm))) : \n",
        "  object 'groups' not found\n"
       ]
      },
      {
       "output_type": "stream",
       "stream": "stderr",
       "text": [
        "//anaconda/lib/python2.7/site-packages/rpy2/robjects/functions.py:106: UserWarning: Error in ggplot(groups, aes(x = min_aff_mt, y = log(expression_allele_tpm))) : \n",
        "  object 'groups' not found\n",
        "\n",
        "  res = super(Function, self).__call__(*new_args, **new_kwargs)\n"
       ]
      }
     ],
     "prompt_number": 7
    },
    {
     "cell_type": "heading",
     "level": 2,
     "metadata": {},
     "source": [
      "Distributions of CCF based on neoantigen classification"
     ]
    },
    {
     "cell_type": "code",
     "collapsed": false,
     "input": [
      "%%R -i pID -w 12 -h 3 -u in\n",
      "options(repr.plot.width=8, repr.plot.height=3)\n",
      "c <- ggplot(neoag[neoag$ccf_hat > 0,], aes(x=is_neoantigen, y=ccf_hat)) #filter out all the ccf_hat = 0's\n",
      "c + geom_boxplot() + facet_wrap(~order, nrow=1)\n"
     ],
     "language": "python",
     "metadata": {},
     "outputs": [
      {
       "output_type": "stream",
       "stream": "stdout",
       "text": [
        "\n",
        "Error in ggplot(neoag[neoag$ccf_hat > 0, ], aes(x = is_neoantigen, y = ccf_hat)) : \n",
        "  object 'neoag' not found\n"
       ]
      },
      {
       "output_type": "stream",
       "stream": "stderr",
       "text": [
        "//anaconda/lib/python2.7/site-packages/rpy2/robjects/functions.py:106: UserWarning: Error in ggplot(neoag[neoag$ccf_hat > 0, ], aes(x = is_neoantigen, y = ccf_hat)) : \n",
        "  object 'neoag' not found\n",
        "\n",
        "  res = super(Function, self).__call__(*new_args, **new_kwargs)\n"
       ]
      }
     ],
     "prompt_number": 8
    },
    {
     "cell_type": "markdown",
     "metadata": {},
     "source": [
      "## Neoantigen rate by clonality\n",
      "- Arbitrariy define ccf based on **CCF_threshold** as \"subclonal\"\n",
      "- The plot below has the threshold on the x axis, and the rate on the y axis\n",
      "- **THIS IS DEPENDENT ON HOW WE DEFINE NEOANTIGENS!!!**\n",
      "- New definition from *McGranahan et al*: only post treatment sample (timepoint 2) shows any separation between neoantigen rate in clonal vs nonclonal mutations, and we have MORE neoantigens in CLONAL populations\n",
      "- Our old definition of neoantigen: For most conditions, it does look like the neoantigen rate is higher at lower CCFs at all time points except for post-treatment (timepoint 2). At timepoint 2, the patient curiously has higher neoantigen rates at clonal positions."
     ]
    },
    {
     "cell_type": "code",
     "collapsed": false,
     "input": [
      "%%R -i pID -w 8 -h 3 -u in\n",
      "#options(repr.plot.width=8, repr.plot.height=3)\n",
      "neorate <- lapply(unique(neoag$order), function(i){\n",
      "    ineoag <- neoag[neoag$order == i,]\n",
      "    neorate <- lapply(seq(0.1,1,.1), function(thresh){\n",
      "        subclonal <- ineoag$ccf_hat < thresh\n",
      "        dat1 <- sum(ineoag[subclonal, 'is_neoantigen'])/sum(subclonal)\n",
      "        dat2 <- sum(ineoag[!subclonal, 'is_neoantigen'])/sum(!subclonal)\n",
      "        out <- data.frame(CCF_threshold=c(thresh, thresh))\n",
      "        out$rate <- c(dat1, dat2)\n",
      "        out$order <- c(i, i)\n",
      "        out$class <- c('subclonal', 'clonal')\n",
      "        out\n",
      "    })\n",
      "    neorate <- do.call(rbind, neorate)\n",
      "})\n",
      "neorate <- do.call(rbind, neorate)\n",
      "\n",
      "c <- ggplot(neorate, aes(x=CCF_threshold, color=class, y=rate))\n",
      "c + \n",
      "    geom_line() + \n",
      "    geom_point() +\n",
      "    expand_limits(y=0) +\n",
      "    facet_wrap(~order)"
     ],
     "language": "python",
     "metadata": {},
     "outputs": [
      {
       "output_type": "stream",
       "stream": "stdout",
       "text": [
        "\n",
        "Error in unique(neoag$order) : object 'neoag' not found\n"
       ]
      },
      {
       "output_type": "stream",
       "stream": "stderr",
       "text": [
        "//anaconda/lib/python2.7/site-packages/rpy2/robjects/functions.py:106: UserWarning: Error in unique(neoag$order) : object 'neoag' not found\n",
        "\n",
        "  res = super(Function, self).__call__(*new_args, **new_kwargs)\n"
       ]
      }
     ],
     "prompt_number": 9
    },
    {
     "cell_type": "code",
     "collapsed": false,
     "input": [
      "%%R -i pID -w 8 -h 3 -u in\n",
      "#options(repr.plot.width=8, repr.plot.height=3)\n",
      "neorate <- lapply(unique(neoag$order), function(i){\n",
      "    ineoag <- neoag[neoag$order == i,]\n",
      "    neorate <- lapply(seq(0.1,1,.1), function(thresh){\n",
      "        subclonal <- ineoag$ccf_hat < thresh\n",
      "        dat1 <- sum(ineoag[subclonal, 'is_neoantigen2'])/sum(subclonal)\n",
      "        dat2 <- sum(ineoag[!subclonal, 'is_neoantigen2'])/sum(!subclonal)\n",
      "        out <- data.frame(CCF_threshold=c(thresh, thresh))\n",
      "        out$rate <- c(dat1, dat2)\n",
      "        out$order <- c(i, i)\n",
      "        out$class <- c('subclonal', 'clonal')\n",
      "        out\n",
      "    })\n",
      "    neorate <- do.call(rbind, neorate)\n",
      "})\n",
      "neorate <- do.call(rbind, neorate)\n",
      "\n",
      "c <- ggplot(neorate, aes(x=CCF_threshold, color=class, y=rate))\n",
      "c + \n",
      "    geom_line() + \n",
      "    geom_point() +\n",
      "    expand_limits(y=0) +\n",
      "    facet_wrap(~order)"
     ],
     "language": "python",
     "metadata": {},
     "outputs": [
      {
       "output_type": "stream",
       "stream": "stdout",
       "text": [
        "\n",
        "Error in unique(neoag$order) : object 'neoag' not found\n"
       ]
      }
     ],
     "prompt_number": 10
    },
    {
     "cell_type": "heading",
     "level": 2,
     "metadata": {},
     "source": [
      "Distribution of neoantigens per gene"
     ]
    },
    {
     "cell_type": "code",
     "collapsed": false,
     "input": [
      "%%R -i pID -w 3 -h 3 -u in\n",
      "#options(repr.plot.width=2, repr.plot.height=2)\n",
      "nsamples <- length(unique(neoag$order))\n",
      "ags <- neoag[neoag$is_neoantigen,]\n",
      "grouped <- tapply(1:nrow(ags), ags$Hugo_Symbol, function(idx){ ags[idx,]})\n",
      "nNeoPerGene <- data.frame(nNeoAg = sapply(grouped, nrow)/nsamples)\n",
      "\n",
      "ggplot(nNeoPerGene, aes(x=nNeoAg)) + geom_histogram(bins=10)"
     ],
     "language": "python",
     "metadata": {},
     "outputs": [
      {
       "output_type": "stream",
       "stream": "stdout",
       "text": [
        "\n",
        "Error in unique(neoag$order) : object 'neoag' not found\n"
       ]
      }
     ],
     "prompt_number": 11
    }
   ],
   "metadata": {}
  }
 ]
}
